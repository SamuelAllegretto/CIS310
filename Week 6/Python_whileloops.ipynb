{
 "cells": [
  {
   "cell_type": "markdown",
   "metadata": {},
   "source": [
    "# Samuel Allegretto\n",
    "## Week 6 - 09/29/2020\n",
    "## Python - Whileloops"
   ]
  },
  {
   "cell_type": "markdown",
   "metadata": {},
   "source": [
    "**The general format of Python while lopps**\n",
    "\n",
    "<code>while test:\n",
    "            statements</code>"
   ]
  },
  {
   "cell_type": "code",
   "execution_count": null,
   "metadata": {},
   "outputs": [],
   "source": [
    "num = 1\n",
    "while num < 6: \n",
    "    print(num)\n",
    "    num +=1"
   ]
  },
  {
   "cell_type": "code",
   "execution_count": null,
   "metadata": {},
   "outputs": [],
   "source": [
    "num = 1\n",
    "while num < 6: \n",
    "    print(num)\n",
    "    num +=1"
   ]
  },
  {
   "cell_type": "code",
   "execution_count": null,
   "metadata": {},
   "outputs": [],
   "source": [
    "num = 1\n",
    "while num < 6: \n",
    "    print('num is currently:',num)\n",
    "    print('num is less than 6, now adding 1 to num')\n",
    "    num +=1"
   ]
  },
  {
   "cell_type": "code",
   "execution_count": null,
   "metadata": {},
   "outputs": [],
   "source": [
    "num = 1\n",
    "while num < 6: \n",
    "    print('num is currently:',num)\n",
    "    print('num is less than 6, now adding 1 to num')\n",
    "    num +=1\n",
    "else: \n",
    "     print('Now while condistion is not true, num is currently:',num)"
   ]
  },
  {
   "cell_type": "code",
   "execution_count": 8,
   "metadata": {},
   "outputs": [
    {
     "name": "stdout",
     "output_type": "stream",
     "text": [
      "num is currently: 1\n",
      "num is less than 10, now adding 1 to num, if num !=5\n",
      "num is currently: 2\n",
      "num is less than 10, now adding 1 to num, if num !=5\n",
      "num is currently: 3\n",
      "num is less than 10, now adding 1 to num, if num !=5\n",
      "num is currently: 4\n",
      "num is less than 10, now adding 1 to num, if num !=5\n",
      "num is currently: 5\n",
      "num is less than 10, now adding 1 to num, if num !=5\n"
     ]
    }
   ],
   "source": [
    "#break keyword\n",
    "num = 1\n",
    "while num < 10: \n",
    "    print('num is currently:',num)\n",
    "    print('num is less than 10, now adding 1 to num, if num !=5')\n",
    "    if num ==5:\n",
    "        break\n",
    "    num +=1\n"
   ]
  },
  {
   "cell_type": "code",
   "execution_count": 6,
   "metadata": {},
   "outputs": [
    {
     "name": "stdout",
     "output_type": "stream",
     "text": [
      "num is currently: 1\n",
      "num is less than 10, now adding 1 to num\n",
      "num is currently: 2\n",
      "num is less than 10, now adding 1 to num\n",
      "num is currently: 3\n",
      "num is less than 10, now adding 1 to num\n",
      "num is currently: 4\n",
      "num is less than 10, now adding 1 to num\n",
      "num is currently: 6\n",
      "num is less than 10, now adding 1 to num\n",
      "num is currently: 7\n",
      "num is less than 10, now adding 1 to num\n",
      "num is currently: 8\n",
      "num is less than 10, now adding 1 to num\n",
      "num is currently: 9\n",
      "num is less than 10, now adding 1 to num\n",
      "num is currently: 10\n",
      "num is less than 10, now adding 1 to num\n"
     ]
    }
   ],
   "source": [
    "#Continue keyword\n",
    "num = 0\n",
    "while num < 10: \n",
    "    num +=1\n",
    "    if num ==5:\n",
    "        continue\n",
    "    print('num is currently:',num)\n",
    "    print('num is less than 10, now adding 1 to num')"
   ]
  },
  {
   "cell_type": "code",
   "execution_count": 7,
   "metadata": {},
   "outputs": [
    {
     "name": "stdout",
     "output_type": "stream",
     "text": [
      "num is currently: 1\n",
      "num is less than 10, now adding 1 to num\n",
      "num is currently: 2\n",
      "num is less than 10, now adding 1 to num\n",
      "num is currently: 3\n",
      "num is less than 10, now adding 1 to num\n",
      "num is currently: 4\n",
      "num is less than 10, now adding 1 to num\n",
      "num is currently: 6\n",
      "num is less than 10, now adding 1 to num\n",
      "num is currently: 7\n",
      "num is less than 10, now adding 1 to num\n",
      "num is currently: 8\n",
      "num is less than 10, now adding 1 to num\n",
      "num is currently: 9\n",
      "num is less than 10, now adding 1 to num\n",
      "num is currently: 10\n",
      "num is less than 10, now adding 1 to num\n"
     ]
    }
   ],
   "source": [
    "num = 0\n",
    "while num < 10: \n",
    "    num +=1\n",
    "    if num ==5:\n",
    "        pass\n",
    "    else:\n",
    "        print('num is currently:',num)\n",
    "        print('num is less than 10, now adding 1 to num')"
   ]
  },
  {
   "cell_type": "code",
   "execution_count": 10,
   "metadata": {},
   "outputs": [
    {
     "name": "stdout",
     "output_type": "stream",
     "text": [
      "num is currently: 2\n",
      "num is less than 10, now adding 1 to num\n",
      "num is currently: 4\n",
      "num is less than 10, now adding 1 to num\n",
      "num is currently: 6\n",
      "num is less than 10, now adding 1 to num\n",
      "num is currently: 8\n",
      "num is less than 10, now adding 1 to num\n",
      "num is currently: 10\n",
      "num is less than 10, now adding 1 to num\n"
     ]
    }
   ],
   "source": [
    "num = 0\n",
    "while num < 10: \n",
    "    num +=1\n",
    "    if num % 2 == 1:\n",
    "        pass\n",
    "    else:\n",
    "        print('num is currently:',num)\n",
    "        print('num is less than 10, now adding 1 to num')"
   ]
  },
  {
   "cell_type": "code",
   "execution_count": 11,
   "metadata": {},
   "outputs": [
    {
     "name": "stdout",
     "output_type": "stream",
     "text": [
      "num is currently: 1\n",
      "num is less than 10, now adding 1 to num\n",
      "num is currently: 3\n",
      "num is less than 10, now adding 1 to num\n",
      "num is currently: 5\n",
      "num is less than 10, now adding 1 to num\n",
      "num is currently: 7\n",
      "num is less than 10, now adding 1 to num\n",
      "num is currently: 9\n",
      "num is less than 10, now adding 1 to num\n"
     ]
    }
   ],
   "source": [
    "num = 0\n",
    "while num < 10: \n",
    "    num +=1\n",
    "    if num % 2 == 0:\n",
    "        pass\n",
    "    else:\n",
    "        print('num is currently:',num)\n",
    "        print('num is less than 10, now adding 1 to num')"
   ]
  },
  {
   "cell_type": "code",
   "execution_count": null,
   "metadata": {},
   "outputs": [],
   "source": [
    "while True:\n",
    "    print('Infinite Loop!')"
   ]
  },
  {
   "cell_type": "code",
   "execution_count": null,
   "metadata": {},
   "outputs": [],
   "source": []
  }
 ],
 "metadata": {
  "kernelspec": {
   "display_name": "Python 3.7 - default",
   "language": "python",
   "name": "py37_default"
  },
  "language_info": {
   "codemirror_mode": {
    "name": "ipython",
    "version": 3
   },
   "file_extension": ".py",
   "mimetype": "text/x-python",
   "name": "python",
   "nbconvert_exporter": "python",
   "pygments_lexer": "ipython3",
   "version": "3.7.7"
  }
 },
 "nbformat": 4,
 "nbformat_minor": 4
}
