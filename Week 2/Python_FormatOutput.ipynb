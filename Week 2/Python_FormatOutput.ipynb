{
 "cells": [
  {
   "cell_type": "markdown",
   "metadata": {},
   "source": [
    "# Samuel Allegretto\n",
    "## Week 2: 09/04/2020\n",
    "### Python Format Output"
   ]
  },
  {
   "cell_type": "code",
   "execution_count": 2,
   "metadata": {},
   "outputs": [
    {
     "name": "stdout",
     "output_type": "stream",
     "text": [
      "The quick brown cat jumps over the dog\n"
     ]
    }
   ],
   "source": [
    "print ('The quick brown %s jumps over the dog' % \"cat\")"
   ]
  },
  {
   "cell_type": "code",
   "execution_count": 3,
   "metadata": {},
   "outputs": [
    {
     "name": "stdout",
     "output_type": "stream",
     "text": [
      "The quick brown cat jumps over the lazy dog\n"
     ]
    }
   ],
   "source": [
    "print ('The quick brown %s jumps over the lazy %s' % (\"cat\", \"dog\"))"
   ]
  },
  {
   "cell_type": "code",
   "execution_count": 7,
   "metadata": {},
   "outputs": [
    {
     "name": "stdout",
     "output_type": "stream",
     "text": [
      "The quick brown fox jumps over the lazy dog\n"
     ]
    }
   ],
   "source": [
    "name1, name2 = 'fox','dog'\n",
    "print ('The quick brown %s jumps over the lazy %s' % (name1, name2))"
   ]
  },
  {
   "cell_type": "code",
   "execution_count": 10,
   "metadata": {},
   "outputs": [
    {
     "name": "stdout",
     "output_type": "stream",
     "text": [
      "The quick brown 'cat' jumps over the dog\n"
     ]
    }
   ],
   "source": [
    "print (\"The quick brown %r jumps over the dog\" % 'cat')"
   ]
  },
  {
   "cell_type": "code",
   "execution_count": 13,
   "metadata": {},
   "outputs": [
    {
     "name": "stdout",
     "output_type": "stream",
     "text": [
      "The quick brown \tcat jumps over the dog\n"
     ]
    }
   ],
   "source": [
    "print (\"The quick brown %s jumps over the dog\" % '\\tcat')"
   ]
  },
  {
   "cell_type": "code",
   "execution_count": 14,
   "metadata": {},
   "outputs": [
    {
     "name": "stdout",
     "output_type": "stream",
     "text": [
      "My score is 98.88 in CIS 310\n"
     ]
    }
   ],
   "source": [
    "# Formatting numbers\n",
    "print('My score is %s in CIS 310' %98.88)"
   ]
  },
  {
   "cell_type": "code",
   "execution_count": 15,
   "metadata": {},
   "outputs": [
    {
     "name": "stdout",
     "output_type": "stream",
     "text": [
      "My score is 98 in CIS 310\n"
     ]
    }
   ],
   "source": [
    "print('My score is %d in CIS 310' %98.88)"
   ]
  },
  {
   "cell_type": "code",
   "execution_count": 16,
   "metadata": {},
   "outputs": [
    {
     "name": "stdout",
     "output_type": "stream",
     "text": [
      "My score is 98.88 in CIS 310\n"
     ]
    }
   ],
   "source": [
    "print('My score is %5.2f in CIS 310' %98.88)"
   ]
  },
  {
   "cell_type": "code",
   "execution_count": 17,
   "metadata": {},
   "outputs": [
    {
     "name": "stdout",
     "output_type": "stream",
     "text": [
      "My score is 98.88 in CIS 310\n"
     ]
    }
   ],
   "source": [
    "print('My score is %2.2f in CIS 310' %98.88)"
   ]
  },
  {
   "cell_type": "code",
   "execution_count": 18,
   "metadata": {},
   "outputs": [
    {
     "name": "stdout",
     "output_type": "stream",
     "text": [
      "My score is 98.8800 in CIS 310\n"
     ]
    }
   ],
   "source": [
    "print('My score is %5.4f in CIS 310' %98.88)"
   ]
  },
  {
   "cell_type": "code",
   "execution_count": 20,
   "metadata": {},
   "outputs": [
    {
     "name": "stdout",
     "output_type": "stream",
     "text": [
      "My score is      98.88 in CIS 310\n"
     ]
    }
   ],
   "source": [
    "print('My score is %10.2f in CIS 310' %(98.88))"
   ]
  },
  {
   "cell_type": "code",
   "execution_count": 24,
   "metadata": {},
   "outputs": [],
   "source": [
    "import webbrowser"
   ]
  },
  {
   "cell_type": "code",
   "execution_count": 30,
   "metadata": {},
   "outputs": [
    {
     "data": {
      "text/plain": [
       "True"
      ]
     },
     "execution_count": 30,
     "metadata": {},
     "output_type": "execute_result"
    }
   ],
   "source": [
    "webbrowser.open('https://docs.python.ord/3/library/stdtypes.html#old-string-formatting')"
   ]
  },
  {
   "cell_type": "code",
   "execution_count": 2,
   "metadata": {},
   "outputs": [
    {
     "name": "stdout",
     "output_type": "stream",
     "text": [
      "I'm using the general purpose language Python to do data analysis!\n"
     ]
    }
   ],
   "source": [
    "# Formatting with the .format () method\n",
    "print (\"I'm using the general purpose language {} to do data analysis!\". format('Python'))"
   ]
  },
  {
   "cell_type": "code",
   "execution_count": 4,
   "metadata": {},
   "outputs": [
    {
     "name": "stdout",
     "output_type": "stream",
     "text": [
      "The brown fox jumps over the lazy dog\n"
     ]
    }
   ],
   "source": [
    "print (\"The {0} {1} jumps over the {3} {2}\".format ('brown','fox','dog', 'lazy'))"
   ]
  },
  {
   "cell_type": "code",
   "execution_count": 7,
   "metadata": {},
   "outputs": [],
   "source": [
    "name1, name2 = 'fox', 'dog'"
   ]
  },
  {
   "cell_type": "code",
   "execution_count": 8,
   "metadata": {},
   "outputs": [
    {
     "name": "stdout",
     "output_type": "stream",
     "text": [
      "The brown fox jumps over the lazy dog\n"
     ]
    }
   ],
   "source": [
    "print (\"The {0} {1} jumps over the {3} {2}\".format ('brown',name1,name2, 'lazy'))"
   ]
  },
  {
   "cell_type": "code",
   "execution_count": 11,
   "metadata": {},
   "outputs": [
    {
     "name": "stdout",
     "output_type": "stream",
     "text": [
      "Food     | Calories \n",
      "Apples   | 3.5      \n",
      "Alomds   | 10.9     \n"
     ]
    }
   ],
   "source": [
    "#index\n",
    "print ('{f:8} | {c:9}'.format(f='Food', c='Calories'))\n",
    "print ('{0:8} | {1:9}'.format('Apples','3.5'))\n",
    "print ('{0:8} | {1:9}'.format('Alomds','10.9'))"
   ]
  },
  {
   "cell_type": "code",
   "execution_count": 12,
   "metadata": {},
   "outputs": [
    {
     "name": "stdout",
     "output_type": "stream",
     "text": [
      "Food     | Calories \n",
      "Apples   | 3.5      \n",
      "Alomds   | 10.9     \n"
     ]
    }
   ],
   "source": [
    "#keywords\n",
    "print ('{f:8} | {c:9}'.format(f='Food', c='Calories'))\n",
    "print ('{0:8} | {1:9}'.format('Apples','3.5'))\n",
    "print ('{0:8} | {1:9}'.format('Alomds','10.9'))"
   ]
  },
  {
   "cell_type": "code",
   "execution_count": 14,
   "metadata": {},
   "outputs": [
    {
     "name": "stdout",
     "output_type": "stream",
     "text": [
      "My GPA is:  3.99\n"
     ]
    }
   ],
   "source": [
    "gpa = 3.99\n",
    "print ('My GPA is: {0:5.2f}'.format(gpa))"
   ]
  },
  {
   "cell_type": "code",
   "execution_count": 15,
   "metadata": {},
   "outputs": [
    {
     "name": "stdout",
     "output_type": "stream",
     "text": [
      "My current grade in CIS 310 is:  4.00\n"
     ]
    }
   ],
   "source": [
    "g = 4.00\n",
    "print ('My current grade in CIS 310 is: {0:5.2f}'.format(g))"
   ]
  },
  {
   "cell_type": "code",
   "execution_count": 17,
   "metadata": {},
   "outputs": [
    {
     "name": "stdout",
     "output_type": "stream",
     "text": [
      "Dr. Abdunabi teaches CIS 310 and CIS 350 in Fall 2020\n"
     ]
    }
   ],
   "source": [
    "# f-string\n",
    "n = 'Dr. Abdunabi'\n",
    "t = 'Fall 2020'\n",
    "print(f\"{n} teaches CIS 310 and CIS 350 in {t}\")"
   ]
  },
  {
   "cell_type": "code",
   "execution_count": 19,
   "metadata": {},
   "outputs": [
    {
     "name": "stdout",
     "output_type": "stream",
     "text": [
      "Dr. Abdunabi teaches CIS 310 and CIS 350 in 'Fall 2020'\n"
     ]
    }
   ],
   "source": [
    "# !r tp get the string representation:\n",
    "n = 'Dr. Abdunabi'\n",
    "t = 'Fall 2020'\n",
    "print(f\"{n} teaches CIS 310 and CIS 350 in {t!r}\")"
   ]
  },
  {
   "cell_type": "code",
   "execution_count": 23,
   "metadata": {},
   "outputs": [],
   "source": [
    "#numbers\n",
    "radius = 2.5\n",
    "area = radius** 2 * 2.1415"
   ]
  },
  {
   "cell_type": "code",
   "execution_count": 24,
   "metadata": {},
   "outputs": [
    {
     "name": "stdout",
     "output_type": "stream",
     "text": [
      "The area for the radius  2.50 is  13.384\n"
     ]
    }
   ],
   "source": [
    "print (f\"The area for the radius {radius: 5.2f} is {area: 4.3f}\")"
   ]
  },
  {
   "cell_type": "code",
   "execution_count": 25,
   "metadata": {},
   "outputs": [
    {
     "data": {
      "text/plain": [
       "True"
      ]
     },
     "execution_count": 25,
     "metadata": {},
     "output_type": "execute_result"
    }
   ],
   "source": [
    "import webbrowser\n",
    "webbrowser.open('http://docs.python.org/3/reference/lexical_analysis.html#f-string')"
   ]
  },
  {
   "cell_type": "code",
   "execution_count": 28,
   "metadata": {},
   "outputs": [
    {
     "name": "stdout",
     "output_type": "stream",
     "text": [
      "55\n",
      "a = 55\n"
     ]
    }
   ],
   "source": [
    "a = input ()\n",
    "print(f\"a = {a}\")"
   ]
  },
  {
   "cell_type": "code",
   "execution_count": 30,
   "metadata": {},
   "outputs": [
    {
     "name": "stdout",
     "output_type": "stream",
     "text": [
      "68.55\n",
      "num = 68.55\n"
     ]
    }
   ],
   "source": [
    "num = input ()\n",
    "print (\"num = {}\".format(num))"
   ]
  },
  {
   "cell_type": "code",
   "execution_count": 31,
   "metadata": {},
   "outputs": [],
   "source": [
    "#Python Casting\n",
    "x = int(1) #x will be 1\n",
    "y = int(2.8)#y will be 2\n",
    "z = int(\"3\")#z wil be 3"
   ]
  },
  {
   "cell_type": "code",
   "execution_count": 32,
   "metadata": {},
   "outputs": [
    {
     "name": "stdout",
     "output_type": "stream",
     "text": [
      "1 2 3\n"
     ]
    }
   ],
   "source": [
    "print (x,y,z)"
   ]
  },
  {
   "cell_type": "code",
   "execution_count": 35,
   "metadata": {},
   "outputs": [],
   "source": [
    "#cast to float \n",
    "x = float (1) # x will be 1.0 \n",
    "y = float (2.8) # y will be 2.8 \n",
    "z = float(\"3\")#z wil be 3.0\n",
    "w = float (\"4.2\")#w wil be 4.0"
   ]
  },
  {
   "cell_type": "code",
   "execution_count": 36,
   "metadata": {},
   "outputs": [
    {
     "name": "stdout",
     "output_type": "stream",
     "text": [
      "1.0 2.8 3.0 4.2\n"
     ]
    }
   ],
   "source": [
    "print (x,y,z,w)"
   ]
  },
  {
   "cell_type": "code",
   "execution_count": 37,
   "metadata": {},
   "outputs": [],
   "source": [
    "#cast to string \n",
    "x = str(\"CIS\") # x will be \"CIS\"\n",
    "y = str(2) # y will be '2'\n",
    "z = str(4.5) # z will be '4.5'"
   ]
  },
  {
   "cell_type": "code",
   "execution_count": 38,
   "metadata": {},
   "outputs": [
    {
     "name": "stdout",
     "output_type": "stream",
     "text": [
      "CIS 2 4.5\n"
     ]
    }
   ],
   "source": [
    "print (x,y,z)"
   ]
  },
  {
   "cell_type": "code",
   "execution_count": 39,
   "metadata": {},
   "outputs": [
    {
     "data": {
      "text/plain": [
       "'CIS'"
      ]
     },
     "execution_count": 39,
     "metadata": {},
     "output_type": "execute_result"
    }
   ],
   "source": [
    "x"
   ]
  },
  {
   "cell_type": "code",
   "execution_count": 40,
   "metadata": {},
   "outputs": [
    {
     "data": {
      "text/plain": [
       "'2'"
      ]
     },
     "execution_count": 40,
     "metadata": {},
     "output_type": "execute_result"
    }
   ],
   "source": [
    "y"
   ]
  },
  {
   "cell_type": "code",
   "execution_count": 41,
   "metadata": {},
   "outputs": [
    {
     "data": {
      "text/plain": [
       "'4.5'"
      ]
     },
     "execution_count": 41,
     "metadata": {},
     "output_type": "execute_result"
    }
   ],
   "source": [
    "z"
   ]
  },
  {
   "cell_type": "code",
   "execution_count": null,
   "metadata": {},
   "outputs": [],
   "source": []
  }
 ],
 "metadata": {
  "kernelspec": {
   "display_name": "Python 3.7 - default",
   "language": "python",
   "name": "py37_default"
  },
  "language_info": {
   "codemirror_mode": {
    "name": "ipython",
    "version": 3
   },
   "file_extension": ".py",
   "mimetype": "text/x-python",
   "name": "python",
   "nbconvert_exporter": "python",
   "pygments_lexer": "ipython3",
   "version": "3.7.7"
  }
 },
 "nbformat": 4,
 "nbformat_minor": 4
}
